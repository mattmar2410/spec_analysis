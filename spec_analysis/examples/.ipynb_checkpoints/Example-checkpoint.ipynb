{
 "cells": [
  {
   "cell_type": "code",
   "execution_count": 4,
   "metadata": {
    "collapsed": false
   },
   "outputs": [
    {
     "name": "stdout",
     "output_type": "stream",
     "text": [
      "Populating the interactive namespace from numpy and matplotlib\n"
     ]
    }
   ],
   "source": [
    "# jupyter specific magic operator\n",
    "%pylab inline\n",
    "import matplotlib.patches as mpatches\n",
    "import becquerel as bq\n",
    "from becquerel import Spectrum\n",
    "import gauss_fit as gf"
   ]
  },
  {
   "cell_type": "code",
   "execution_count": 5,
   "metadata": {
    "collapsed": false
   },
   "outputs": [
    {
     "ename": "NameError",
     "evalue": "name 'Spectrum' is not defined",
     "output_type": "error",
     "traceback": [
      "\u001b[0;31m---------------------------------------------------------------------------\u001b[0m",
      "\u001b[0;31mNameError\u001b[0m                                 Traceback (most recent call last)",
      "\u001b[0;32m<ipython-input-5-b7314cbf5f02>\u001b[0m in \u001b[0;36m<module>\u001b[0;34m()\u001b[0m\n\u001b[1;32m      1\u001b[0m \u001b[0mfname\u001b[0m \u001b[0;34m=\u001b[0m \u001b[0;34m'digibase_5min_0_1.Spe'\u001b[0m\u001b[0;34m\u001b[0m\u001b[0m\n\u001b[0;32m----> 2\u001b[0;31m \u001b[0mdigital_0_1\u001b[0m \u001b[0;34m=\u001b[0m \u001b[0mSpectrum\u001b[0m\u001b[0;34m.\u001b[0m\u001b[0mfrom_file\u001b[0m\u001b[0;34m(\u001b[0m\u001b[0mfix_spe_zero_cal\u001b[0m\u001b[0;34m(\u001b[0m\u001b[0mfname\u001b[0m\u001b[0;34m)\u001b[0m\u001b[0;34m)\u001b[0m\u001b[0;34m\u001b[0m\u001b[0m\n\u001b[0m\u001b[1;32m      3\u001b[0m \u001b[0;31m#Background Subtraction\u001b[0m\u001b[0;34m\u001b[0m\u001b[0;34m\u001b[0m\u001b[0m\n\u001b[1;32m      4\u001b[0m \u001b[0mfname\u001b[0m \u001b[0;34m=\u001b[0m \u001b[0;34m'Data_collection/digibase_30min_bg.Spe'\u001b[0m\u001b[0;34m\u001b[0m\u001b[0m\n\u001b[1;32m      5\u001b[0m \u001b[0mdigital_bg\u001b[0m \u001b[0;34m=\u001b[0m \u001b[0mSpectrum\u001b[0m\u001b[0;34m.\u001b[0m\u001b[0mfrom_file\u001b[0m\u001b[0;34m(\u001b[0m\u001b[0mfix_spe_zero_cal\u001b[0m\u001b[0;34m(\u001b[0m\u001b[0mfname\u001b[0m\u001b[0;34m)\u001b[0m\u001b[0;34m)\u001b[0m\u001b[0;34m\u001b[0m\u001b[0m\n",
      "\u001b[0;31mNameError\u001b[0m: name 'Spectrum' is not defined"
     ]
    }
   ],
   "source": [
    "fname = 'digibase_5min_0_1.Spe'\n",
    "digital_0_1 = Spectrum.from_file(fix_spe_zero_cal(fname))\n",
    "#Background Subtraction\n",
    "fname = 'Data_collection/digibase_30min_bg.Spe'\n",
    "digital_bg = Spectrum.from_file(fix_spe_zero_cal(fname))\n",
    "#spec_bg = spec_bg.counts_vals*time_1/time_2"
   ]
  },
  {
   "cell_type": "code",
   "execution_count": 3,
   "metadata": {
    "collapsed": false
   },
   "outputs": [
    {
     "ename": "NameError",
     "evalue": "name 'Spectrum' is not defined",
     "output_type": "error",
     "traceback": [
      "\u001b[0;31m---------------------------------------------------------------------------\u001b[0m",
      "\u001b[0;31mNameError\u001b[0m                                 Traceback (most recent call last)",
      "\u001b[0;32m<ipython-input-3-284fa44bb324>\u001b[0m in \u001b[0;36m<module>\u001b[0;34m()\u001b[0m\n\u001b[1;32m      1\u001b[0m \u001b[0mfname\u001b[0m \u001b[0;34m=\u001b[0m \u001b[0;34m'Data_collection/analog_vs_digital/analog_5min_0_1.Spe'\u001b[0m\u001b[0;34m\u001b[0m\u001b[0m\n\u001b[0;32m----> 2\u001b[0;31m \u001b[0mspec_1_analog\u001b[0m \u001b[0;34m=\u001b[0m \u001b[0mSpectrum\u001b[0m\u001b[0;34m.\u001b[0m\u001b[0mfrom_file\u001b[0m\u001b[0;34m(\u001b[0m\u001b[0;34m(\u001b[0m\u001b[0mfname\u001b[0m\u001b[0;34m)\u001b[0m\u001b[0;34m)\u001b[0m\u001b[0;34m\u001b[0m\u001b[0m\n\u001b[0m\u001b[1;32m      3\u001b[0m \u001b[0mfname\u001b[0m \u001b[0;34m=\u001b[0m \u001b[0;34m'Data_collection/analog_vs_digital/analog_30min_bg.Spe'\u001b[0m\u001b[0;34m\u001b[0m\u001b[0m\n\u001b[1;32m      4\u001b[0m \u001b[0manalog_bg\u001b[0m \u001b[0;34m=\u001b[0m \u001b[0mSpectrum\u001b[0m\u001b[0;34m.\u001b[0m\u001b[0mfrom_file\u001b[0m\u001b[0;34m(\u001b[0m\u001b[0;34m(\u001b[0m\u001b[0mfname\u001b[0m\u001b[0;34m)\u001b[0m\u001b[0;34m)\u001b[0m\u001b[0;34m\u001b[0m\u001b[0m\n",
      "\u001b[0;31mNameError\u001b[0m: name 'Spectrum' is not defined"
     ]
    }
   ],
   "source": [
    "fname = 'Data_collection/analog_vs_digital/analog_5min_0_1.Spe'\n",
    "spec_1_analog = Spectrum.from_file((fname))\n",
    "fname = 'Data_collection/analog_vs_digital/analog_30min_bg.Spe'\n",
    "analog_bg = Spectrum.from_file((fname))"
   ]
  },
  {
   "cell_type": "code",
   "execution_count": null,
   "metadata": {
    "collapsed": false
   },
   "outputs": [],
   "source": [
    "analog_1 = spec_1_analog - analog_bg #normalized to the live time"
   ]
  },
  {
   "cell_type": "code",
   "execution_count": null,
   "metadata": {
    "collapsed": false
   },
   "outputs": [],
   "source": [
    "semilogy(analog_1.energies_kev, analog_1.cpskev_vals)\n",
    "plt.xlim(200, 1800)"
   ]
  },
  {
   "cell_type": "code",
   "execution_count": null,
   "metadata": {
    "collapsed": false
   },
   "outputs": [],
   "source": [
    "value, mylist = 662, analog_1.energies_kev\n",
    "from bisect import bisect\n",
    "t= (bisect(mylist, value))"
   ]
  },
  {
   "cell_type": "code",
   "execution_count": null,
   "metadata": {
    "collapsed": false
   },
   "outputs": [],
   "source": [
    "analog_1.energies_kev[t]"
   ]
  },
  {
   "cell_type": "code",
   "execution_count": null,
   "metadata": {
    "collapsed": false
   },
   "outputs": [],
   "source": [
    "your_list = [11,22,23,44,55]\n",
    "t = list(filter(lambda x:660<analog_1.energies_kev[x]<663,range(len(analog_1.energies_kev))))"
   ]
  },
  {
   "cell_type": "code",
   "execution_count": null,
   "metadata": {
    "collapsed": false
   },
   "outputs": [],
   "source": [
    "from gamma_energies import gamma_energies\n",
    "import becquerel as bq\n",
    "\n",
    "energy_list = gamma_energies('Cs137', 'Co60')"
   ]
  },
  {
   "cell_type": "code",
   "execution_count": null,
   "metadata": {
    "collapsed": false
   },
   "outputs": [],
   "source": [
    "from calibration import spectrum_calibration\n",
    "\n",
    "analog_1 = spec_1_analog - analog_bg #normalized to the live time\n",
    "channel_width = 15; clean_left = 0; clean_right = 60\n",
    "\n",
    "channel_number, energies = spectrum_calibration(channel_width, energy_list, analog_1.cpskev_vals, clean_right)\n",
    "\n",
    "analog_cal = bq.LinearEnergyCal.from_points(chlist=channel_number, kevlist=energies)\n",
    "analog_cal.update_fit()\n",
    "spec_1_analog.apply_calibration(analog_cal)\n",
    "analog_bg.apply_calibration(analog_cal)\n",
    "\n",
    "analog_1 = spec_1_analog - analog_bg"
   ]
  },
  {
   "cell_type": "code",
   "execution_count": null,
   "metadata": {
    "collapsed": false
   },
   "outputs": [],
   "source": [
    "channel_width = 10\n",
    "def plot_gauss(energy_data, cnts_data, energy_spectrum, channel_width):\n",
    "    for erg in energy_spectrum:\n",
    "        x_loc = list(filter(lambda x:(erg-3)<energy_data[x]<(erg+3),range(len(energy_data))))\n",
    "        x_loc_pk = range(int(x_loc[0]-5), int(x_loc[0]+5))\n",
    "        pk_cnt = np.argmax(cnts_data[x_loc_pk])\n",
    "        ch_width = range(int(x_loc_pk[pk_cnt]-channel_width), int(x_loc_pk[pk_cnt]+channel_width))\n",
    "\n",
    "        calibration = energy_data[ch_width]\n",
    "        real_y_gauss = cnts_data[ch_width]\n",
    "        x = np.asarray(calibration)\n",
    "        real_y = np.asarray(real_y_gauss)\n",
    "\n",
    "        mod_gauss  = GaussianModel(prefix='g1_')\n",
    "        line_mod = LinearModel(prefix='line')\n",
    "        pars = mod_gauss.guess(real_y, x=x)\n",
    "        pars.update(line_mod.make_params(intercept=real_y.min(), slope=0))\n",
    "        pars.update(mod_gauss.make_params())\n",
    "        pars['g1_center'].set(x[np.argmax(real_y)], min=x[np.argmax(real_y)]\\\n",
    "        - 3)\n",
    "        pars['g1_sigma'].set(3, min=0.25)\n",
    "        pars['g1_amplitude'].set(max(real_y), min=max(real_y)-10)\n",
    "        mod = mod_gauss + line_mod\n",
    "        out  = mod.fit(real_y, pars, x=x)\n",
    "\n",
    "        plt.figure()\n",
    "        plt.plot(x,real_y)\n",
    "        plt.plot(x, out.best_fit, 'k--')\n",
    "        energy_title = np.argmax(x)\n",
    "        max_y = np.argmax(real_y)  # Find the maximum y value\n",
    "        max_x = x[(max_y)]  # Find the x value corresponding to the maximum y value\n",
    "        plt.title('Gaussian fit around %0.1f keV' % x[max_y])\n",
    "        plt.xlabel('Energy (keV)')\n",
    "        plt.ylabel('CPS')\n",
    "        plt.show()\n",
    "        gauss_x = []; gauss_y = []; parameter_list_1 = []\n",
    "        real_y_gauss =[]"
   ]
  },
  {
   "cell_type": "code",
   "execution_count": null,
   "metadata": {
    "collapsed": false
   },
   "outputs": [],
   "source": [
    "plot_gauss(analog_1.energies_kev, analog_1.cpskev_vals, energy_list, 10)"
   ]
  },
  {
   "cell_type": "code",
   "execution_count": null,
   "metadata": {
    "collapsed": true
   },
   "outputs": [],
   "source": [
    "plot_gauss?"
   ]
  },
  {
   "cell_type": "code",
   "execution_count": null,
   "metadata": {
    "collapsed": true
   },
   "outputs": [],
   "source": [
    "Spectrum?"
   ]
  },
  {
   "cell_type": "code",
   "execution_count": null,
   "metadata": {
    "collapsed": true
   },
   "outputs": [],
   "source": []
  }
 ],
 "metadata": {
  "kernelspec": {
   "display_name": "Python 3",
   "language": "python",
   "name": "python3"
  },
  "language_info": {
   "codemirror_mode": {
    "name": "ipython",
    "version": 3
   },
   "file_extension": ".py",
   "mimetype": "text/x-python",
   "name": "python",
   "nbconvert_exporter": "python",
   "pygments_lexer": "ipython3",
   "version": "3.6.0"
  }
 },
 "nbformat": 4,
 "nbformat_minor": 2
}
